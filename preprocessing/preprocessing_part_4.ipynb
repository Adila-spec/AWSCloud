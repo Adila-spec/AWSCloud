{
 "cells": [
  {
   "cell_type": "markdown",
   "metadata": {},
   "source": [
    "# Preprocessing Part 4 - Splitting, Rebalancing, and Formatting customers.csv for Modeling\n",
    "\n",
    "### Run on ml.t3.2xlarge instance"
   ]
  },
  {
   "cell_type": "code",
   "execution_count": 1,
   "metadata": {},
   "outputs": [],
   "source": [
    "%%capture\n",
    "!pip install numpy\n",
    "!pip install pandas\n",
    "!pip install boto3\n",
    "!pip install matplotlib\n",
    "!pip install seaborn\n",
    "!pip install imbalanced-learn\n",
    "!pip install awswrangler\n",
    "!pip install sklearn"
   ]
  },
  {
   "cell_type": "code",
   "execution_count": 2,
   "metadata": {},
   "outputs": [],
   "source": [
    "import numpy as np\n",
    "import pandas as pd\n",
    "import boto3\n",
    "import matplotlib.pyplot as plt\n",
    "import seaborn as sns\n",
    "import awswrangler as wr\n",
    "\n",
    "from imblearn.over_sampling import SMOTE\n",
    "from sklearn.model_selection import train_test_split\n",
    "\n",
    "pd.options.display.float_format = '{:.4f}'.format\n",
    "pd.options.mode.chained_assignment = None"
   ]
  },
  {
   "cell_type": "markdown",
   "metadata": {},
   "source": [
    "### Loading Data via S3"
   ]
  },
  {
   "cell_type": "code",
   "execution_count": 3,
   "metadata": {},
   "outputs": [],
   "source": [
    "bucket='ads-508-group-6-processed'\n",
    "data_key = 'customers_transformed.csv'\n",
    "\n",
    "s3 = boto3.client('s3')\n",
    "customers_obj = s3.get_object(Bucket = bucket, Key = data_key)\n",
    "\n",
    "df = pd.read_csv(customers_obj['Body'])"
   ]
  },
  {
   "cell_type": "markdown",
   "metadata": {},
   "source": [
    "### Loading Data Locally"
   ]
  },
  {
   "cell_type": "code",
   "execution_count": 4,
   "metadata": {},
   "outputs": [],
   "source": [
    "# customers_df = pd.read_csv(\"..\\\\data\\\\customers_processed_part_3.csv\")"
   ]
  },
  {
   "cell_type": "code",
   "execution_count": 5,
   "metadata": {},
   "outputs": [
    {
     "data": {
      "text/html": [
       "<div>\n",
       "<style scoped>\n",
       "    .dataframe tbody tr th:only-of-type {\n",
       "        vertical-align: middle;\n",
       "    }\n",
       "\n",
       "    .dataframe tbody tr th {\n",
       "        vertical-align: top;\n",
       "    }\n",
       "\n",
       "    .dataframe thead th {\n",
       "        text-align: right;\n",
       "    }\n",
       "</style>\n",
       "<table border=\"1\" class=\"dataframe\">\n",
       "  <thead>\n",
       "    <tr style=\"text-align: right;\">\n",
       "      <th></th>\n",
       "      <th>churn</th>\n",
       "      <th>FN</th>\n",
       "      <th>Active</th>\n",
       "      <th>club_member_status_0</th>\n",
       "      <th>club_member_status_ACTIVE</th>\n",
       "      <th>club_member_status_LEFT CLUB</th>\n",
       "      <th>club_member_status_PRE-CREATE</th>\n",
       "      <th>fashion_news_frequency_0</th>\n",
       "      <th>fashion_news_frequency_Monthly</th>\n",
       "      <th>fashion_news_frequency_NONE</th>\n",
       "      <th>...</th>\n",
       "      <th>age</th>\n",
       "      <th>lifetime_articles_purchased</th>\n",
       "      <th>lieftime_amount_spent</th>\n",
       "      <th>lifetime_average_amount_spent_per_article</th>\n",
       "      <th>lifetime_average_days_between_purchase</th>\n",
       "      <th>quarter_articles_purchased</th>\n",
       "      <th>quarter_amount_spent</th>\n",
       "      <th>quarter_average_amount_spent_per_article</th>\n",
       "      <th>quarter_average_days_between_purchase</th>\n",
       "      <th>days_since_last_purchase</th>\n",
       "    </tr>\n",
       "  </thead>\n",
       "  <tbody>\n",
       "    <tr>\n",
       "      <th>0</th>\n",
       "      <td>1.0000</td>\n",
       "      <td>0.0000</td>\n",
       "      <td>0.0000</td>\n",
       "      <td>0</td>\n",
       "      <td>1</td>\n",
       "      <td>0</td>\n",
       "      <td>0</td>\n",
       "      <td>0</td>\n",
       "      <td>0</td>\n",
       "      <td>1</td>\n",
       "      <td>...</td>\n",
       "      <td>0.7500</td>\n",
       "      <td>-0.0270</td>\n",
       "      <td>0.0553</td>\n",
       "      <td>0.2982</td>\n",
       "      <td>-0.1928</td>\n",
       "      <td>0.1667</td>\n",
       "      <td>-0.0757</td>\n",
       "      <td>-0.5051</td>\n",
       "      <td>0.0000</td>\n",
       "      <td>-0.6000</td>\n",
       "    </tr>\n",
       "    <tr>\n",
       "      <th>1</th>\n",
       "      <td>0.0000</td>\n",
       "      <td>0.0000</td>\n",
       "      <td>0.0000</td>\n",
       "      <td>0</td>\n",
       "      <td>1</td>\n",
       "      <td>0</td>\n",
       "      <td>0</td>\n",
       "      <td>0</td>\n",
       "      <td>0</td>\n",
       "      <td>1</td>\n",
       "      <td>...</td>\n",
       "      <td>-0.2500</td>\n",
       "      <td>1.3514</td>\n",
       "      <td>1.7015</td>\n",
       "      <td>0.4473</td>\n",
       "      <td>0.8366</td>\n",
       "      <td>2.5000</td>\n",
       "      <td>2.1183</td>\n",
       "      <td>-0.0767</td>\n",
       "      <td>1.9492</td>\n",
       "      <td>-0.1000</td>\n",
       "    </tr>\n",
       "    <tr>\n",
       "      <th>2</th>\n",
       "      <td>0.0000</td>\n",
       "      <td>0.0000</td>\n",
       "      <td>0.0000</td>\n",
       "      <td>0</td>\n",
       "      <td>1</td>\n",
       "      <td>0</td>\n",
       "      <td>0</td>\n",
       "      <td>0</td>\n",
       "      <td>0</td>\n",
       "      <td>1</td>\n",
       "      <td>...</td>\n",
       "      <td>-0.2917</td>\n",
       "      <td>-0.3784</td>\n",
       "      <td>-0.3292</td>\n",
       "      <td>0.3747</td>\n",
       "      <td>-0.5402</td>\n",
       "      <td>-0.1667</td>\n",
       "      <td>-0.2158</td>\n",
       "      <td>-0.1970</td>\n",
       "      <td>0.0000</td>\n",
       "      <td>0.5750</td>\n",
       "    </tr>\n",
       "    <tr>\n",
       "      <th>3</th>\n",
       "      <td>1.0000</td>\n",
       "      <td>0.0000</td>\n",
       "      <td>0.0000</td>\n",
       "      <td>0</td>\n",
       "      <td>1</td>\n",
       "      <td>0</td>\n",
       "      <td>0</td>\n",
       "      <td>0</td>\n",
       "      <td>0</td>\n",
       "      <td>1</td>\n",
       "      <td>...</td>\n",
       "      <td>-0.4583</td>\n",
       "      <td>-0.5135</td>\n",
       "      <td>-0.4916</td>\n",
       "      <td>-0.0007</td>\n",
       "      <td>-0.6995</td>\n",
       "      <td>-0.3333</td>\n",
       "      <td>-0.3089</td>\n",
       "      <td>0.0493</td>\n",
       "      <td>0.0000</td>\n",
       "      <td>1.3000</td>\n",
       "    </tr>\n",
       "    <tr>\n",
       "      <th>4</th>\n",
       "      <td>0.0000</td>\n",
       "      <td>1.0000</td>\n",
       "      <td>1.0000</td>\n",
       "      <td>0</td>\n",
       "      <td>1</td>\n",
       "      <td>0</td>\n",
       "      <td>0</td>\n",
       "      <td>0</td>\n",
       "      <td>0</td>\n",
       "      <td>0</td>\n",
       "      <td>...</td>\n",
       "      <td>1.0417</td>\n",
       "      <td>2.4324</td>\n",
       "      <td>3.0215</td>\n",
       "      <td>0.4924</td>\n",
       "      <td>1.7067</td>\n",
       "      <td>2.8333</td>\n",
       "      <td>3.1932</td>\n",
       "      <td>0.3746</td>\n",
       "      <td>1.5296</td>\n",
       "      <td>-0.5500</td>\n",
       "    </tr>\n",
       "  </tbody>\n",
       "</table>\n",
       "<p>5 rows × 1093 columns</p>\n",
       "</div>"
      ],
      "text/plain": [
       "   churn     FN  Active  club_member_status_0  club_member_status_ACTIVE  \\\n",
       "0 1.0000 0.0000  0.0000                     0                          1   \n",
       "1 0.0000 0.0000  0.0000                     0                          1   \n",
       "2 0.0000 0.0000  0.0000                     0                          1   \n",
       "3 1.0000 0.0000  0.0000                     0                          1   \n",
       "4 0.0000 1.0000  1.0000                     0                          1   \n",
       "\n",
       "   club_member_status_LEFT CLUB  club_member_status_PRE-CREATE  \\\n",
       "0                             0                              0   \n",
       "1                             0                              0   \n",
       "2                             0                              0   \n",
       "3                             0                              0   \n",
       "4                             0                              0   \n",
       "\n",
       "   fashion_news_frequency_0  fashion_news_frequency_Monthly  \\\n",
       "0                         0                               0   \n",
       "1                         0                               0   \n",
       "2                         0                               0   \n",
       "3                         0                               0   \n",
       "4                         0                               0   \n",
       "\n",
       "   fashion_news_frequency_NONE  ...     age  lifetime_articles_purchased  \\\n",
       "0                            1  ...  0.7500                      -0.0270   \n",
       "1                            1  ... -0.2500                       1.3514   \n",
       "2                            1  ... -0.2917                      -0.3784   \n",
       "3                            1  ... -0.4583                      -0.5135   \n",
       "4                            0  ...  1.0417                       2.4324   \n",
       "\n",
       "   lieftime_amount_spent  lifetime_average_amount_spent_per_article  \\\n",
       "0                 0.0553                                     0.2982   \n",
       "1                 1.7015                                     0.4473   \n",
       "2                -0.3292                                     0.3747   \n",
       "3                -0.4916                                    -0.0007   \n",
       "4                 3.0215                                     0.4924   \n",
       "\n",
       "   lifetime_average_days_between_purchase  quarter_articles_purchased  \\\n",
       "0                                 -0.1928                      0.1667   \n",
       "1                                  0.8366                      2.5000   \n",
       "2                                 -0.5402                     -0.1667   \n",
       "3                                 -0.6995                     -0.3333   \n",
       "4                                  1.7067                      2.8333   \n",
       "\n",
       "   quarter_amount_spent  quarter_average_amount_spent_per_article  \\\n",
       "0               -0.0757                                   -0.5051   \n",
       "1                2.1183                                   -0.0767   \n",
       "2               -0.2158                                   -0.1970   \n",
       "3               -0.3089                                    0.0493   \n",
       "4                3.1932                                    0.3746   \n",
       "\n",
       "   quarter_average_days_between_purchase  days_since_last_purchase  \n",
       "0                                 0.0000                   -0.6000  \n",
       "1                                 1.9492                   -0.1000  \n",
       "2                                 0.0000                    0.5750  \n",
       "3                                 0.0000                    1.3000  \n",
       "4                                 1.5296                   -0.5500  \n",
       "\n",
       "[5 rows x 1093 columns]"
      ]
     },
     "execution_count": 5,
     "metadata": {},
     "output_type": "execute_result"
    }
   ],
   "source": [
    "df.head()"
   ]
  },
  {
   "cell_type": "markdown",
   "metadata": {},
   "source": [
    "### Data Partitioning and Balancing"
   ]
  },
  {
   "cell_type": "code",
   "execution_count": 6,
   "metadata": {},
   "outputs": [
    {
     "data": {
      "text/plain": [
       "0   1.0000\n",
       "1   0.0000\n",
       "2   0.0000\n",
       "3   1.0000\n",
       "4   0.0000\n",
       "Name: churn, dtype: float64"
      ]
     },
     "execution_count": 6,
     "metadata": {},
     "output_type": "execute_result"
    }
   ],
   "source": [
    "y = df['churn']\n",
    "y.head()"
   ]
  },
  {
   "cell_type": "code",
   "execution_count": 7,
   "metadata": {},
   "outputs": [
    {
     "data": {
      "text/html": [
       "<div>\n",
       "<style scoped>\n",
       "    .dataframe tbody tr th:only-of-type {\n",
       "        vertical-align: middle;\n",
       "    }\n",
       "\n",
       "    .dataframe tbody tr th {\n",
       "        vertical-align: top;\n",
       "    }\n",
       "\n",
       "    .dataframe thead th {\n",
       "        text-align: right;\n",
       "    }\n",
       "</style>\n",
       "<table border=\"1\" class=\"dataframe\">\n",
       "  <thead>\n",
       "    <tr style=\"text-align: right;\">\n",
       "      <th></th>\n",
       "      <th>FN</th>\n",
       "      <th>Active</th>\n",
       "      <th>club_member_status_0</th>\n",
       "      <th>club_member_status_ACTIVE</th>\n",
       "      <th>club_member_status_LEFT CLUB</th>\n",
       "      <th>club_member_status_PRE-CREATE</th>\n",
       "      <th>fashion_news_frequency_0</th>\n",
       "      <th>fashion_news_frequency_Monthly</th>\n",
       "      <th>fashion_news_frequency_NONE</th>\n",
       "      <th>fashion_news_frequency_Regularly</th>\n",
       "      <th>...</th>\n",
       "      <th>age</th>\n",
       "      <th>lifetime_articles_purchased</th>\n",
       "      <th>lieftime_amount_spent</th>\n",
       "      <th>lifetime_average_amount_spent_per_article</th>\n",
       "      <th>lifetime_average_days_between_purchase</th>\n",
       "      <th>quarter_articles_purchased</th>\n",
       "      <th>quarter_amount_spent</th>\n",
       "      <th>quarter_average_amount_spent_per_article</th>\n",
       "      <th>quarter_average_days_between_purchase</th>\n",
       "      <th>days_since_last_purchase</th>\n",
       "    </tr>\n",
       "  </thead>\n",
       "  <tbody>\n",
       "    <tr>\n",
       "      <th>0</th>\n",
       "      <td>0.0000</td>\n",
       "      <td>0.0000</td>\n",
       "      <td>0</td>\n",
       "      <td>1</td>\n",
       "      <td>0</td>\n",
       "      <td>0</td>\n",
       "      <td>0</td>\n",
       "      <td>0</td>\n",
       "      <td>1</td>\n",
       "      <td>0</td>\n",
       "      <td>...</td>\n",
       "      <td>0.7500</td>\n",
       "      <td>-0.0270</td>\n",
       "      <td>0.0553</td>\n",
       "      <td>0.2982</td>\n",
       "      <td>-0.1928</td>\n",
       "      <td>0.1667</td>\n",
       "      <td>-0.0757</td>\n",
       "      <td>-0.5051</td>\n",
       "      <td>0.0000</td>\n",
       "      <td>-0.6000</td>\n",
       "    </tr>\n",
       "    <tr>\n",
       "      <th>1</th>\n",
       "      <td>0.0000</td>\n",
       "      <td>0.0000</td>\n",
       "      <td>0</td>\n",
       "      <td>1</td>\n",
       "      <td>0</td>\n",
       "      <td>0</td>\n",
       "      <td>0</td>\n",
       "      <td>0</td>\n",
       "      <td>1</td>\n",
       "      <td>0</td>\n",
       "      <td>...</td>\n",
       "      <td>-0.2500</td>\n",
       "      <td>1.3514</td>\n",
       "      <td>1.7015</td>\n",
       "      <td>0.4473</td>\n",
       "      <td>0.8366</td>\n",
       "      <td>2.5000</td>\n",
       "      <td>2.1183</td>\n",
       "      <td>-0.0767</td>\n",
       "      <td>1.9492</td>\n",
       "      <td>-0.1000</td>\n",
       "    </tr>\n",
       "    <tr>\n",
       "      <th>2</th>\n",
       "      <td>0.0000</td>\n",
       "      <td>0.0000</td>\n",
       "      <td>0</td>\n",
       "      <td>1</td>\n",
       "      <td>0</td>\n",
       "      <td>0</td>\n",
       "      <td>0</td>\n",
       "      <td>0</td>\n",
       "      <td>1</td>\n",
       "      <td>0</td>\n",
       "      <td>...</td>\n",
       "      <td>-0.2917</td>\n",
       "      <td>-0.3784</td>\n",
       "      <td>-0.3292</td>\n",
       "      <td>0.3747</td>\n",
       "      <td>-0.5402</td>\n",
       "      <td>-0.1667</td>\n",
       "      <td>-0.2158</td>\n",
       "      <td>-0.1970</td>\n",
       "      <td>0.0000</td>\n",
       "      <td>0.5750</td>\n",
       "    </tr>\n",
       "    <tr>\n",
       "      <th>3</th>\n",
       "      <td>0.0000</td>\n",
       "      <td>0.0000</td>\n",
       "      <td>0</td>\n",
       "      <td>1</td>\n",
       "      <td>0</td>\n",
       "      <td>0</td>\n",
       "      <td>0</td>\n",
       "      <td>0</td>\n",
       "      <td>1</td>\n",
       "      <td>0</td>\n",
       "      <td>...</td>\n",
       "      <td>-0.4583</td>\n",
       "      <td>-0.5135</td>\n",
       "      <td>-0.4916</td>\n",
       "      <td>-0.0007</td>\n",
       "      <td>-0.6995</td>\n",
       "      <td>-0.3333</td>\n",
       "      <td>-0.3089</td>\n",
       "      <td>0.0493</td>\n",
       "      <td>0.0000</td>\n",
       "      <td>1.3000</td>\n",
       "    </tr>\n",
       "    <tr>\n",
       "      <th>4</th>\n",
       "      <td>1.0000</td>\n",
       "      <td>1.0000</td>\n",
       "      <td>0</td>\n",
       "      <td>1</td>\n",
       "      <td>0</td>\n",
       "      <td>0</td>\n",
       "      <td>0</td>\n",
       "      <td>0</td>\n",
       "      <td>0</td>\n",
       "      <td>1</td>\n",
       "      <td>...</td>\n",
       "      <td>1.0417</td>\n",
       "      <td>2.4324</td>\n",
       "      <td>3.0215</td>\n",
       "      <td>0.4924</td>\n",
       "      <td>1.7067</td>\n",
       "      <td>2.8333</td>\n",
       "      <td>3.1932</td>\n",
       "      <td>0.3746</td>\n",
       "      <td>1.5296</td>\n",
       "      <td>-0.5500</td>\n",
       "    </tr>\n",
       "  </tbody>\n",
       "</table>\n",
       "<p>5 rows × 1092 columns</p>\n",
       "</div>"
      ],
      "text/plain": [
       "      FN  Active  club_member_status_0  club_member_status_ACTIVE  \\\n",
       "0 0.0000  0.0000                     0                          1   \n",
       "1 0.0000  0.0000                     0                          1   \n",
       "2 0.0000  0.0000                     0                          1   \n",
       "3 0.0000  0.0000                     0                          1   \n",
       "4 1.0000  1.0000                     0                          1   \n",
       "\n",
       "   club_member_status_LEFT CLUB  club_member_status_PRE-CREATE  \\\n",
       "0                             0                              0   \n",
       "1                             0                              0   \n",
       "2                             0                              0   \n",
       "3                             0                              0   \n",
       "4                             0                              0   \n",
       "\n",
       "   fashion_news_frequency_0  fashion_news_frequency_Monthly  \\\n",
       "0                         0                               0   \n",
       "1                         0                               0   \n",
       "2                         0                               0   \n",
       "3                         0                               0   \n",
       "4                         0                               0   \n",
       "\n",
       "   fashion_news_frequency_NONE  fashion_news_frequency_Regularly  ...     age  \\\n",
       "0                            1                                 0  ...  0.7500   \n",
       "1                            1                                 0  ... -0.2500   \n",
       "2                            1                                 0  ... -0.2917   \n",
       "3                            1                                 0  ... -0.4583   \n",
       "4                            0                                 1  ...  1.0417   \n",
       "\n",
       "   lifetime_articles_purchased  lieftime_amount_spent  \\\n",
       "0                      -0.0270                 0.0553   \n",
       "1                       1.3514                 1.7015   \n",
       "2                      -0.3784                -0.3292   \n",
       "3                      -0.5135                -0.4916   \n",
       "4                       2.4324                 3.0215   \n",
       "\n",
       "   lifetime_average_amount_spent_per_article  \\\n",
       "0                                     0.2982   \n",
       "1                                     0.4473   \n",
       "2                                     0.3747   \n",
       "3                                    -0.0007   \n",
       "4                                     0.4924   \n",
       "\n",
       "   lifetime_average_days_between_purchase  quarter_articles_purchased  \\\n",
       "0                                 -0.1928                      0.1667   \n",
       "1                                  0.8366                      2.5000   \n",
       "2                                 -0.5402                     -0.1667   \n",
       "3                                 -0.6995                     -0.3333   \n",
       "4                                  1.7067                      2.8333   \n",
       "\n",
       "   quarter_amount_spent  quarter_average_amount_spent_per_article  \\\n",
       "0               -0.0757                                   -0.5051   \n",
       "1                2.1183                                   -0.0767   \n",
       "2               -0.2158                                   -0.1970   \n",
       "3               -0.3089                                    0.0493   \n",
       "4                3.1932                                    0.3746   \n",
       "\n",
       "   quarter_average_days_between_purchase  days_since_last_purchase  \n",
       "0                                 0.0000                   -0.6000  \n",
       "1                                 1.9492                   -0.1000  \n",
       "2                                 0.0000                    0.5750  \n",
       "3                                 0.0000                    1.3000  \n",
       "4                                 1.5296                   -0.5500  \n",
       "\n",
       "[5 rows x 1092 columns]"
      ]
     },
     "execution_count": 7,
     "metadata": {},
     "output_type": "execute_result"
    }
   ],
   "source": [
    "X = df\n",
    "X.drop(columns = 'churn', inplace = True)\n",
    "X.head()"
   ]
  },
  {
   "cell_type": "code",
   "execution_count": 8,
   "metadata": {},
   "outputs": [],
   "source": [
    "X_train, X_test, y_train, y_test = train_test_split(X, \n",
    "                                                    y, \n",
    "                                                    test_size=0.8, \n",
    "                                                    random_state=0, \n",
    "                                                    shuffle = True)"
   ]
  },
  {
   "cell_type": "code",
   "execution_count": 9,
   "metadata": {},
   "outputs": [],
   "source": [
    "X_test, X_val, y_test, y_val = train_test_split(X_test, \n",
    "                                                y_test, \n",
    "                                                test_size=0.5, \n",
    "                                                random_state=0, \n",
    "                                                shuffle = True)"
   ]
  },
  {
   "cell_type": "markdown",
   "metadata": {},
   "source": [
    "### Resampling"
   ]
  },
  {
   "cell_type": "code",
   "execution_count": 10,
   "metadata": {},
   "outputs": [
    {
     "name": "stdout",
     "output_type": "stream",
     "text": [
      "Target Feature Counts\n",
      "0.0000    55336\n",
      "1.0000    38539\n",
      "Name: churn, dtype: int64\n"
     ]
    }
   ],
   "source": [
    "print('Target Feature Counts')\n",
    "print(y_train.value_counts())"
   ]
  },
  {
   "cell_type": "code",
   "execution_count": 11,
   "metadata": {},
   "outputs": [
    {
     "name": "stdout",
     "output_type": "stream",
     "text": [
      "Target Feature Distribution\n",
      "0.0000   0.5895\n",
      "1.0000   0.4105\n",
      "Name: churn, dtype: float64\n"
     ]
    }
   ],
   "source": [
    "print('Target Feature Distribution')\n",
    "print(y_train.value_counts(normalize = True))"
   ]
  },
  {
   "cell_type": "code",
   "execution_count": 12,
   "metadata": {},
   "outputs": [
    {
     "name": "stdout",
     "output_type": "stream",
     "text": [
      "Target Feature Representation after Rebalancing\n",
      "0.0000   0.5000\n",
      "1.0000   0.5000\n",
      "Name: churn, dtype: float64\n"
     ]
    }
   ],
   "source": [
    "over_sampler = SMOTE(k_neighbors=2)\n",
    "X_train_reb, y_train_reb = over_sampler.fit_resample(X_train, y_train)\n",
    "\n",
    "print('Target Feature Representation after Rebalancing')\n",
    "print(y_train_reb.value_counts(normalize = True))"
   ]
  },
  {
   "cell_type": "markdown",
   "metadata": {},
   "source": [
    "### Saving to S3 in correct format"
   ]
  },
  {
   "cell_type": "code",
   "execution_count": 13,
   "metadata": {},
   "outputs": [],
   "source": [
    "y_train_reb = np.reshape(y_train_reb.values, (-1, 1))\n",
    "train_full = np.hstack((y_train_reb, X_train_reb))\n",
    "train_df = pd.DataFrame(train_full)"
   ]
  },
  {
   "cell_type": "code",
   "execution_count": 14,
   "metadata": {},
   "outputs": [
    {
     "data": {
      "text/plain": [
       "{'paths': ['s3://ads-508-group-6-final/churn_model_data/train/data.csv'],\n",
       " 'partitions_values': {}}"
      ]
     },
     "execution_count": 14,
     "metadata": {},
     "output_type": "execute_result"
    }
   ],
   "source": [
    "wr.s3.to_csv(df = train_df,\n",
    "             path = \"s3://ads-508-group-6-final/churn_model_data/train/data.csv\",\n",
    "             index = False)"
   ]
  },
  {
   "cell_type": "code",
   "execution_count": 15,
   "metadata": {},
   "outputs": [],
   "source": [
    "y_test = np.reshape(y_test.values, (-1, 1))\n",
    "test_full = np.hstack((y_test, X_test))\n",
    "test_df = pd.DataFrame(test_full)"
   ]
  },
  {
   "cell_type": "code",
   "execution_count": 16,
   "metadata": {},
   "outputs": [
    {
     "data": {
      "text/plain": [
       "{'paths': ['s3://ads-508-group-6-final/churn_model_data/test/data.csv'],\n",
       " 'partitions_values': {}}"
      ]
     },
     "execution_count": 16,
     "metadata": {},
     "output_type": "execute_result"
    }
   ],
   "source": [
    "wr.s3.to_csv(df = test_df,\n",
    "             path = \"s3://ads-508-group-6-final/churn_model_data/test/data.csv\",\n",
    "             index = False)"
   ]
  },
  {
   "cell_type": "code",
   "execution_count": 17,
   "metadata": {},
   "outputs": [],
   "source": [
    "y_val = np.reshape(y_val.values, (-1, 1))\n",
    "val_full = np.hstack((y_val, X_val))\n",
    "validation_df = pd.DataFrame(val_full)"
   ]
  },
  {
   "cell_type": "code",
   "execution_count": 18,
   "metadata": {},
   "outputs": [
    {
     "data": {
      "text/plain": [
       "{'paths': ['s3://ads-508-group-6-final/churn_model_data/validation/data.csv'],\n",
       " 'partitions_values': {}}"
      ]
     },
     "execution_count": 18,
     "metadata": {},
     "output_type": "execute_result"
    }
   ],
   "source": [
    "wr.s3.to_csv(df = validation_df,\n",
    "             path = \"s3://ads-508-group-6-final/churn_model_data/validation/data.csv\",\n",
    "             index = False)"
   ]
  },
  {
   "cell_type": "markdown",
   "metadata": {},
   "source": [
    "### Shutting Down Kernel To Release Resources"
   ]
  },
  {
   "cell_type": "code",
   "execution_count": 19,
   "metadata": {},
   "outputs": [
    {
     "data": {
      "text/html": [
       "\n",
       "<p><b>Shutting down your kernel for this notebook to release resources.</b></p>\n",
       "<button class=\"sm-command-button\" data-commandlinker-command=\"kernelmenu:shutdown\" style=\"display:none;\">Shutdown Kernel</button>\n",
       "        \n",
       "<script>\n",
       "try {\n",
       "    els = document.getElementsByClassName(\"sm-command-button\");\n",
       "    els[0].click();\n",
       "}\n",
       "catch(err) {\n",
       "    // NoOp\n",
       "}    \n",
       "</script>\n"
      ],
      "text/plain": [
       "<IPython.core.display.HTML object>"
      ]
     },
     "metadata": {},
     "output_type": "display_data"
    }
   ],
   "source": [
    "%%html\n",
    "\n",
    "<p><b>Shutting down your kernel for this notebook to release resources.</b></p>\n",
    "<button class=\"sm-command-button\" data-commandlinker-command=\"kernelmenu:shutdown\" style=\"display:none;\">Shutdown Kernel</button>\n",
    "        \n",
    "<script>\n",
    "try {\n",
    "    els = document.getElementsByClassName(\"sm-command-button\");\n",
    "    els[0].click();\n",
    "}\n",
    "catch(err) {\n",
    "    // NoOp\n",
    "}    \n",
    "</script>"
   ]
  },
  {
   "cell_type": "code",
   "execution_count": 20,
   "metadata": {},
   "outputs": [
    {
     "data": {
      "application/javascript": [
       "\n",
       "try {\n",
       "    Jupyter.notebook.save_checkpoint();\n",
       "    Jupyter.notebook.session.delete();\n",
       "}\n",
       "catch(err) {\n",
       "    // NoOp\n",
       "}\n"
      ],
      "text/plain": [
       "<IPython.core.display.Javascript object>"
      ]
     },
     "metadata": {},
     "output_type": "display_data"
    }
   ],
   "source": [
    "%%javascript\n",
    "\n",
    "try {\n",
    "    Jupyter.notebook.save_checkpoint();\n",
    "    Jupyter.notebook.session.delete();\n",
    "}\n",
    "catch(err) {\n",
    "    // NoOp\n",
    "}"
   ]
  }
 ],
 "metadata": {
  "kernelspec": {
   "display_name": "Python 3 (Base Python)",
   "language": "python",
   "name": "python3__SAGEMAKER_INTERNAL__arn:aws:sagemaker:us-east-1:081325390199:image/python-3.6"
  },
  "language_info": {
   "codemirror_mode": {
    "name": "ipython",
    "version": 3
   },
   "file_extension": ".py",
   "mimetype": "text/x-python",
   "name": "python",
   "nbconvert_exporter": "python",
   "pygments_lexer": "ipython3",
   "version": "3.6.13"
  }
 },
 "nbformat": 4,
 "nbformat_minor": 4
}
