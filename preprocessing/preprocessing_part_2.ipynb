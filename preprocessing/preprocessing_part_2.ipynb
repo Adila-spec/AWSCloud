{
 "cells": [
  {
   "cell_type": "markdown",
   "metadata": {},
   "source": [
    "# Preprocessing Part 2 - Cleaning and Merging Feature Creation in customers.csv\n",
    "\n",
    "### Run on ml.t3.xlarge instance"
   ]
  },
  {
   "cell_type": "code",
   "execution_count": 2,
   "metadata": {},
   "outputs": [],
   "source": [
    "%%capture\n",
    "!pip install numpy\n",
    "!pip install pandas\n",
    "!pip install boto3\n",
    "!pip install matplotlib\n",
    "!pip install seaborn\n",
    "!pip install datetime\n",
    "!pip install awswrangler\n",
    "!pip install sklearn"
   ]
  },
  {
   "cell_type": "code",
   "execution_count": 3,
   "metadata": {},
   "outputs": [],
   "source": [
    "import numpy as np\n",
    "import pandas as pd\n",
    "import boto3\n",
    "import matplotlib.pyplot as plt\n",
    "import seaborn as sns\n",
    "import datetime\n",
    "import awswrangler as wr\n",
    "\n",
    "from sklearn.preprocessing import StandardScaler\n",
    "from sklearn.preprocessing import OneHotEncoder\n",
    "from sklearn.preprocessing import Binarizer\n",
    "from sklearn.preprocessing import OrdinalEncoder\n",
    "\n",
    "from sklearn.impute import SimpleImputer\n",
    "from sklearn.impute import KNNImputer\n",
    "\n",
    "pd.options.display.float_format = '{:.4f}'.format\n",
    "pd.options.mode.chained_assignment = None"
   ]
  },
  {
   "cell_type": "markdown",
   "metadata": {},
   "source": [
    "### Loading Data via S3"
   ]
  },
  {
   "cell_type": "code",
   "execution_count": 4,
   "metadata": {},
   "outputs": [],
   "source": [
    "bucket='ads-508-group-6-raw'\n",
    "data_key = 'customers.csv'\n",
    "\n",
    "s3 = boto3.client('s3')\n",
    "customer_obj = s3.get_object(Bucket = bucket, Key = data_key)\n",
    "\n",
    "customers_df = pd.read_csv(customer_obj['Body'])"
   ]
  },
  {
   "cell_type": "markdown",
   "metadata": {},
   "source": [
    "### Loading Data Locally"
   ]
  },
  {
   "cell_type": "code",
   "execution_count": 5,
   "metadata": {},
   "outputs": [],
   "source": [
    "#customers_df = pd.read_csv(\"..\\\\data\\\\customers.csv\")"
   ]
  },
  {
   "cell_type": "code",
   "execution_count": 6,
   "metadata": {},
   "outputs": [
    {
     "data": {
      "text/html": [
       "<div>\n",
       "<style scoped>\n",
       "    .dataframe tbody tr th:only-of-type {\n",
       "        vertical-align: middle;\n",
       "    }\n",
       "\n",
       "    .dataframe tbody tr th {\n",
       "        vertical-align: top;\n",
       "    }\n",
       "\n",
       "    .dataframe thead th {\n",
       "        text-align: right;\n",
       "    }\n",
       "</style>\n",
       "<table border=\"1\" class=\"dataframe\">\n",
       "  <thead>\n",
       "    <tr style=\"text-align: right;\">\n",
       "      <th></th>\n",
       "      <th>customer_id</th>\n",
       "      <th>FN</th>\n",
       "      <th>Active</th>\n",
       "      <th>club_member_status</th>\n",
       "      <th>fashion_news_frequency</th>\n",
       "      <th>age</th>\n",
       "      <th>postal_code</th>\n",
       "    </tr>\n",
       "  </thead>\n",
       "  <tbody>\n",
       "    <tr>\n",
       "      <th>0</th>\n",
       "      <td>00000dbacae5abe5e23885899a1fa44253a17956c6d1c3...</td>\n",
       "      <td>nan</td>\n",
       "      <td>nan</td>\n",
       "      <td>ACTIVE</td>\n",
       "      <td>NONE</td>\n",
       "      <td>49.0000</td>\n",
       "      <td>52043ee2162cf5aa7ee79974281641c6f11a68d276429a...</td>\n",
       "    </tr>\n",
       "    <tr>\n",
       "      <th>1</th>\n",
       "      <td>0000423b00ade91418cceaf3b26c6af3dd342b51fd051e...</td>\n",
       "      <td>nan</td>\n",
       "      <td>nan</td>\n",
       "      <td>ACTIVE</td>\n",
       "      <td>NONE</td>\n",
       "      <td>25.0000</td>\n",
       "      <td>2973abc54daa8a5f8ccfe9362140c63247c5eee03f1d93...</td>\n",
       "    </tr>\n",
       "    <tr>\n",
       "      <th>2</th>\n",
       "      <td>000058a12d5b43e67d225668fa1f8d618c13dc232df0ca...</td>\n",
       "      <td>nan</td>\n",
       "      <td>nan</td>\n",
       "      <td>ACTIVE</td>\n",
       "      <td>NONE</td>\n",
       "      <td>24.0000</td>\n",
       "      <td>64f17e6a330a85798e4998f62d0930d14db8db1c054af6...</td>\n",
       "    </tr>\n",
       "    <tr>\n",
       "      <th>3</th>\n",
       "      <td>00005ca1c9ed5f5146b52ac8639a40ca9d57aeff4d1bd2...</td>\n",
       "      <td>nan</td>\n",
       "      <td>nan</td>\n",
       "      <td>ACTIVE</td>\n",
       "      <td>NONE</td>\n",
       "      <td>54.0000</td>\n",
       "      <td>5d36574f52495e81f019b680c843c443bd343d5ca5b1c2...</td>\n",
       "    </tr>\n",
       "    <tr>\n",
       "      <th>4</th>\n",
       "      <td>00006413d8573cd20ed7128e53b7b13819fe5cfc2d801f...</td>\n",
       "      <td>1.0000</td>\n",
       "      <td>1.0000</td>\n",
       "      <td>ACTIVE</td>\n",
       "      <td>Regularly</td>\n",
       "      <td>52.0000</td>\n",
       "      <td>25fa5ddee9aac01b35208d01736e57942317d756b32ddd...</td>\n",
       "    </tr>\n",
       "  </tbody>\n",
       "</table>\n",
       "</div>"
      ],
      "text/plain": [
       "                                         customer_id     FN  Active  \\\n",
       "0  00000dbacae5abe5e23885899a1fa44253a17956c6d1c3...    nan     nan   \n",
       "1  0000423b00ade91418cceaf3b26c6af3dd342b51fd051e...    nan     nan   \n",
       "2  000058a12d5b43e67d225668fa1f8d618c13dc232df0ca...    nan     nan   \n",
       "3  00005ca1c9ed5f5146b52ac8639a40ca9d57aeff4d1bd2...    nan     nan   \n",
       "4  00006413d8573cd20ed7128e53b7b13819fe5cfc2d801f... 1.0000  1.0000   \n",
       "\n",
       "  club_member_status fashion_news_frequency     age  \\\n",
       "0             ACTIVE                   NONE 49.0000   \n",
       "1             ACTIVE                   NONE 25.0000   \n",
       "2             ACTIVE                   NONE 24.0000   \n",
       "3             ACTIVE                   NONE 54.0000   \n",
       "4             ACTIVE              Regularly 52.0000   \n",
       "\n",
       "                                         postal_code  \n",
       "0  52043ee2162cf5aa7ee79974281641c6f11a68d276429a...  \n",
       "1  2973abc54daa8a5f8ccfe9362140c63247c5eee03f1d93...  \n",
       "2  64f17e6a330a85798e4998f62d0930d14db8db1c054af6...  \n",
       "3  5d36574f52495e81f019b680c843c443bd343d5ca5b1c2...  \n",
       "4  25fa5ddee9aac01b35208d01736e57942317d756b32ddd...  "
      ]
     },
     "execution_count": 6,
     "metadata": {},
     "output_type": "execute_result"
    }
   ],
   "source": [
    "customers_df.head()"
   ]
  },
  {
   "cell_type": "markdown",
   "metadata": {},
   "source": [
    "## Fill Null Values"
   ]
  },
  {
   "cell_type": "code",
   "execution_count": 7,
   "metadata": {},
   "outputs": [
    {
     "data": {
      "text/plain": [
       "customer_id                    0\n",
       "FN                        895050\n",
       "Active                    907576\n",
       "club_member_status          6062\n",
       "fashion_news_frequency     16009\n",
       "age                        15861\n",
       "postal_code                    0\n",
       "dtype: int64"
      ]
     },
     "execution_count": 7,
     "metadata": {},
     "output_type": "execute_result"
    }
   ],
   "source": [
    "customers_df.isnull().sum()"
   ]
  },
  {
   "cell_type": "code",
   "execution_count": 8,
   "metadata": {},
   "outputs": [],
   "source": [
    "simpleimputer_cat = SimpleImputer(strategy = 'constant', fill_value = 0)"
   ]
  },
  {
   "cell_type": "code",
   "execution_count": 9,
   "metadata": {},
   "outputs": [],
   "source": [
    "customers_df['FN'] = simpleimputer_cat.fit_transform(customers_df[['FN']])\n",
    "customers_df['Active'] = simpleimputer_cat.fit_transform(customers_df[['Active']])\n",
    "customers_df['club_member_status'] = simpleimputer_cat.fit_transform(customers_df[['club_member_status']])\n",
    "customers_df['fashion_news_frequency'] = simpleimputer_cat.fit_transform(customers_df[['fashion_news_frequency']])"
   ]
  },
  {
   "cell_type": "code",
   "execution_count": 10,
   "metadata": {},
   "outputs": [],
   "source": [
    "simpleimputer_num = SimpleImputer(strategy = 'median')"
   ]
  },
  {
   "cell_type": "code",
   "execution_count": 11,
   "metadata": {},
   "outputs": [],
   "source": [
    "customers_df['age'] = simpleimputer_num.fit_transform(customers_df[['age']])"
   ]
  },
  {
   "cell_type": "code",
   "execution_count": 12,
   "metadata": {},
   "outputs": [
    {
     "data": {
      "text/plain": [
       "customer_id               0\n",
       "FN                        0\n",
       "Active                    0\n",
       "club_member_status        0\n",
       "fashion_news_frequency    0\n",
       "age                       0\n",
       "postal_code               0\n",
       "dtype: int64"
      ]
     },
     "execution_count": 12,
     "metadata": {},
     "output_type": "execute_result"
    }
   ],
   "source": [
    "customers_df.isnull().sum()"
   ]
  },
  {
   "cell_type": "markdown",
   "metadata": {},
   "source": [
    "## Reducing Full Customers Table to Experiment Population"
   ]
  },
  {
   "cell_type": "markdown",
   "metadata": {},
   "source": [
    "### Loading Data via S3"
   ]
  },
  {
   "cell_type": "code",
   "execution_count": 13,
   "metadata": {},
   "outputs": [],
   "source": [
    "bucket='ads-508-group-6-processed'\n",
    "data_key = 'quarter_transactions.csv'\n",
    "\n",
    "s3 = boto3.client('s3')\n",
    "customer_population_obj = s3.get_object(Bucket = bucket, Key = data_key)\n",
    "\n",
    "df = pd.read_csv(customer_population_obj['Body'])"
   ]
  },
  {
   "cell_type": "markdown",
   "metadata": {},
   "source": [
    "### Loading Data Locally"
   ]
  },
  {
   "cell_type": "code",
   "execution_count": 14,
   "metadata": {},
   "outputs": [],
   "source": [
    "# df = pd.read_csv(\"..\\\\data\\\\quarter_transactions.csv\")"
   ]
  },
  {
   "cell_type": "code",
   "execution_count": 15,
   "metadata": {},
   "outputs": [
    {
     "data": {
      "text/html": [
       "<div>\n",
       "<style scoped>\n",
       "    .dataframe tbody tr th:only-of-type {\n",
       "        vertical-align: middle;\n",
       "    }\n",
       "\n",
       "    .dataframe tbody tr th {\n",
       "        vertical-align: top;\n",
       "    }\n",
       "\n",
       "    .dataframe thead th {\n",
       "        text-align: right;\n",
       "    }\n",
       "</style>\n",
       "<table border=\"1\" class=\"dataframe\">\n",
       "  <thead>\n",
       "    <tr style=\"text-align: right;\">\n",
       "      <th></th>\n",
       "      <th>customer_id</th>\n",
       "      <th>quarter_articles_purchased</th>\n",
       "      <th>quarter_amount_spent</th>\n",
       "      <th>quarter_average_amount_spent_per_article</th>\n",
       "      <th>quarter_average_days_between_purchase</th>\n",
       "    </tr>\n",
       "  </thead>\n",
       "  <tbody>\n",
       "    <tr>\n",
       "      <th>0</th>\n",
       "      <td>00000dbacae5abe5e23885899a1fa44253a17956c6d1c3...</td>\n",
       "      <td>5</td>\n",
       "      <td>0.0936</td>\n",
       "      <td>0.0187</td>\n",
       "      <td>0.0000</td>\n",
       "    </tr>\n",
       "    <tr>\n",
       "      <th>1</th>\n",
       "      <td>0000423b00ade91418cceaf3b26c6af3dd342b51fd051e...</td>\n",
       "      <td>19</td>\n",
       "      <td>0.4726</td>\n",
       "      <td>0.0249</td>\n",
       "      <td>0.0118</td>\n",
       "    </tr>\n",
       "    <tr>\n",
       "      <th>2</th>\n",
       "      <td>000058a12d5b43e67d225668fa1f8d618c13dc232df0ca...</td>\n",
       "      <td>3</td>\n",
       "      <td>0.0694</td>\n",
       "      <td>0.0231</td>\n",
       "      <td>0.0000</td>\n",
       "    </tr>\n",
       "    <tr>\n",
       "      <th>3</th>\n",
       "      <td>00007e8d4e54114b5b2a9b51586325a8d0fa74ea23ef77...</td>\n",
       "      <td>2</td>\n",
       "      <td>0.0534</td>\n",
       "      <td>0.0267</td>\n",
       "      <td>0.0000</td>\n",
       "    </tr>\n",
       "    <tr>\n",
       "      <th>4</th>\n",
       "      <td>00009d946eec3ea54add5ba56d5210ea898def4b46c685...</td>\n",
       "      <td>21</td>\n",
       "      <td>0.6582</td>\n",
       "      <td>0.0313</td>\n",
       "      <td>0.0093</td>\n",
       "    </tr>\n",
       "  </tbody>\n",
       "</table>\n",
       "</div>"
      ],
      "text/plain": [
       "                                         customer_id  \\\n",
       "0  00000dbacae5abe5e23885899a1fa44253a17956c6d1c3...   \n",
       "1  0000423b00ade91418cceaf3b26c6af3dd342b51fd051e...   \n",
       "2  000058a12d5b43e67d225668fa1f8d618c13dc232df0ca...   \n",
       "3  00007e8d4e54114b5b2a9b51586325a8d0fa74ea23ef77...   \n",
       "4  00009d946eec3ea54add5ba56d5210ea898def4b46c685...   \n",
       "\n",
       "   quarter_articles_purchased  quarter_amount_spent  \\\n",
       "0                           5                0.0936   \n",
       "1                          19                0.4726   \n",
       "2                           3                0.0694   \n",
       "3                           2                0.0534   \n",
       "4                          21                0.6582   \n",
       "\n",
       "   quarter_average_amount_spent_per_article  \\\n",
       "0                                    0.0187   \n",
       "1                                    0.0249   \n",
       "2                                    0.0231   \n",
       "3                                    0.0267   \n",
       "4                                    0.0313   \n",
       "\n",
       "   quarter_average_days_between_purchase  \n",
       "0                                 0.0000  \n",
       "1                                 0.0118  \n",
       "2                                 0.0000  \n",
       "3                                 0.0000  \n",
       "4                                 0.0093  "
      ]
     },
     "execution_count": 15,
     "metadata": {},
     "output_type": "execute_result"
    }
   ],
   "source": [
    "df.head()"
   ]
  },
  {
   "cell_type": "code",
   "execution_count": 16,
   "metadata": {},
   "outputs": [],
   "source": [
    "customers_df = customers_df[customers_df.customer_id.isin(df.customer_id)]"
   ]
  },
  {
   "cell_type": "markdown",
   "metadata": {},
   "source": [
    "## Appending Feature Creation Fields"
   ]
  },
  {
   "cell_type": "code",
   "execution_count": 17,
   "metadata": {},
   "outputs": [],
   "source": [
    "customers_df = pd.merge(customers_df, \n",
    "                       df,\n",
    "                       how='left', \n",
    "                       on=['customer_id'])"
   ]
  },
  {
   "cell_type": "markdown",
   "metadata": {},
   "source": [
    "### Loading Data via S3"
   ]
  },
  {
   "cell_type": "code",
   "execution_count": 19,
   "metadata": {},
   "outputs": [],
   "source": [
    "bucket='ads-508-group-6-processed'\n",
    "data_key = 'historical_transactions.csv'\n",
    "\n",
    "s3 = boto3.client('s3')\n",
    "customer_population_obj = s3.get_object(Bucket = bucket, Key = data_key)\n",
    "\n",
    "df = pd.read_csv(customer_population_obj['Body'])"
   ]
  },
  {
   "cell_type": "markdown",
   "metadata": {},
   "source": [
    "### Loading Data Locally"
   ]
  },
  {
   "cell_type": "code",
   "execution_count": 20,
   "metadata": {},
   "outputs": [],
   "source": [
    "# df = pd.read_csv(\"..\\\\data\\\\historical_Transactions.csv\")"
   ]
  },
  {
   "cell_type": "code",
   "execution_count": 21,
   "metadata": {},
   "outputs": [
    {
     "data": {
      "text/html": [
       "<div>\n",
       "<style scoped>\n",
       "    .dataframe tbody tr th:only-of-type {\n",
       "        vertical-align: middle;\n",
       "    }\n",
       "\n",
       "    .dataframe tbody tr th {\n",
       "        vertical-align: top;\n",
       "    }\n",
       "\n",
       "    .dataframe thead th {\n",
       "        text-align: right;\n",
       "    }\n",
       "</style>\n",
       "<table border=\"1\" class=\"dataframe\">\n",
       "  <thead>\n",
       "    <tr style=\"text-align: right;\">\n",
       "      <th></th>\n",
       "      <th>customer_id</th>\n",
       "      <th>lifetime_articles_purchased</th>\n",
       "      <th>lieftime_amount_spent</th>\n",
       "      <th>days_since_last_purchase</th>\n",
       "      <th>lifetime_average_amount_spent_per_article</th>\n",
       "      <th>lifetime_average_days_between_purchase</th>\n",
       "    </tr>\n",
       "  </thead>\n",
       "  <tbody>\n",
       "    <tr>\n",
       "      <th>0</th>\n",
       "      <td>00000dbacae5abe5e23885899a1fa44253a17956c6d1c3...</td>\n",
       "      <td>20</td>\n",
       "      <td>0.5982</td>\n",
       "      <td>10</td>\n",
       "      <td>0.0299</td>\n",
       "      <td>0.0444</td>\n",
       "    </tr>\n",
       "    <tr>\n",
       "      <th>1</th>\n",
       "      <td>0000423b00ade91418cceaf3b26c6af3dd342b51fd051e...</td>\n",
       "      <td>71</td>\n",
       "      <td>2.2378</td>\n",
       "      <td>30</td>\n",
       "      <td>0.0315</td>\n",
       "      <td>0.1347</td>\n",
       "    </tr>\n",
       "    <tr>\n",
       "      <th>2</th>\n",
       "      <td>000058a12d5b43e67d225668fa1f8d618c13dc232df0ca...</td>\n",
       "      <td>7</td>\n",
       "      <td>0.2151</td>\n",
       "      <td>57</td>\n",
       "      <td>0.0307</td>\n",
       "      <td>0.0140</td>\n",
       "    </tr>\n",
       "    <tr>\n",
       "      <th>3</th>\n",
       "      <td>00005ca1c9ed5f5146b52ac8639a40ca9d57aeff4d1bd2...</td>\n",
       "      <td>2</td>\n",
       "      <td>0.0610</td>\n",
       "      <td>296</td>\n",
       "      <td>0.0305</td>\n",
       "      <td>0.0000</td>\n",
       "    </tr>\n",
       "    <tr>\n",
       "      <th>4</th>\n",
       "      <td>00006413d8573cd20ed7128e53b7b13819fe5cfc2d801f...</td>\n",
       "      <td>6</td>\n",
       "      <td>0.2139</td>\n",
       "      <td>174</td>\n",
       "      <td>0.0356</td>\n",
       "      <td>0.0166</td>\n",
       "    </tr>\n",
       "  </tbody>\n",
       "</table>\n",
       "</div>"
      ],
      "text/plain": [
       "                                         customer_id  \\\n",
       "0  00000dbacae5abe5e23885899a1fa44253a17956c6d1c3...   \n",
       "1  0000423b00ade91418cceaf3b26c6af3dd342b51fd051e...   \n",
       "2  000058a12d5b43e67d225668fa1f8d618c13dc232df0ca...   \n",
       "3  00005ca1c9ed5f5146b52ac8639a40ca9d57aeff4d1bd2...   \n",
       "4  00006413d8573cd20ed7128e53b7b13819fe5cfc2d801f...   \n",
       "\n",
       "   lifetime_articles_purchased  lieftime_amount_spent  \\\n",
       "0                           20                 0.5982   \n",
       "1                           71                 2.2378   \n",
       "2                            7                 0.2151   \n",
       "3                            2                 0.0610   \n",
       "4                            6                 0.2139   \n",
       "\n",
       "   days_since_last_purchase  lifetime_average_amount_spent_per_article  \\\n",
       "0                        10                                     0.0299   \n",
       "1                        30                                     0.0315   \n",
       "2                        57                                     0.0307   \n",
       "3                       296                                     0.0305   \n",
       "4                       174                                     0.0356   \n",
       "\n",
       "   lifetime_average_days_between_purchase  \n",
       "0                                  0.0444  \n",
       "1                                  0.1347  \n",
       "2                                  0.0140  \n",
       "3                                  0.0000  \n",
       "4                                  0.0166  "
      ]
     },
     "execution_count": 21,
     "metadata": {},
     "output_type": "execute_result"
    }
   ],
   "source": [
    "df.head()"
   ]
  },
  {
   "cell_type": "code",
   "execution_count": 22,
   "metadata": {},
   "outputs": [],
   "source": [
    "customers_df = pd.merge(customers_df, \n",
    "                       df,\n",
    "                       how='left', \n",
    "                       on=['customer_id'])"
   ]
  },
  {
   "cell_type": "markdown",
   "metadata": {},
   "source": [
    "## Appending Target Labels"
   ]
  },
  {
   "cell_type": "markdown",
   "metadata": {},
   "source": [
    "### Loading Data via S3"
   ]
  },
  {
   "cell_type": "code",
   "execution_count": 23,
   "metadata": {},
   "outputs": [],
   "source": [
    "bucket='ads-508-group-6-processed'\n",
    "data_key = 'target_labels.csv'\n",
    "\n",
    "s3 = boto3.client('s3')\n",
    "labels_obj = s3.get_object(Bucket = bucket, Key = data_key)\n",
    "\n",
    "df = pd.read_csv(labels_obj['Body'])"
   ]
  },
  {
   "cell_type": "markdown",
   "metadata": {},
   "source": [
    "### Loading Data Locally"
   ]
  },
  {
   "cell_type": "code",
   "execution_count": 24,
   "metadata": {},
   "outputs": [],
   "source": [
    "# df = pd.read_csv(\"..\\\\data\\\\target_labels.csv\")"
   ]
  },
  {
   "cell_type": "code",
   "execution_count": 25,
   "metadata": {},
   "outputs": [
    {
     "data": {
      "text/html": [
       "<div>\n",
       "<style scoped>\n",
       "    .dataframe tbody tr th:only-of-type {\n",
       "        vertical-align: middle;\n",
       "    }\n",
       "\n",
       "    .dataframe tbody tr th {\n",
       "        vertical-align: top;\n",
       "    }\n",
       "\n",
       "    .dataframe thead th {\n",
       "        text-align: right;\n",
       "    }\n",
       "</style>\n",
       "<table border=\"1\" class=\"dataframe\">\n",
       "  <thead>\n",
       "    <tr style=\"text-align: right;\">\n",
       "      <th></th>\n",
       "      <th>customer_id</th>\n",
       "      <th>churn</th>\n",
       "    </tr>\n",
       "  </thead>\n",
       "  <tbody>\n",
       "    <tr>\n",
       "      <th>0</th>\n",
       "      <td>000058a12d5b43e67d225668fa1f8d618c13dc232df0ca...</td>\n",
       "      <td>0</td>\n",
       "    </tr>\n",
       "    <tr>\n",
       "      <th>1</th>\n",
       "      <td>000563485cbb7850b0a93c6606f89c5b961c6647d1bd48...</td>\n",
       "      <td>0</td>\n",
       "    </tr>\n",
       "    <tr>\n",
       "      <th>2</th>\n",
       "      <td>00083cda041544b2fbb0e0d2905ad17da7cf1007526fb4...</td>\n",
       "      <td>0</td>\n",
       "    </tr>\n",
       "    <tr>\n",
       "      <th>3</th>\n",
       "      <td>000eae69313b4fc1824fa7e439f168cc140bf4c3f3a7e9...</td>\n",
       "      <td>0</td>\n",
       "    </tr>\n",
       "    <tr>\n",
       "      <th>4</th>\n",
       "      <td>000ec422ba5459f0295c1e86872d61b746bb8f84345efd...</td>\n",
       "      <td>0</td>\n",
       "    </tr>\n",
       "  </tbody>\n",
       "</table>\n",
       "</div>"
      ],
      "text/plain": [
       "                                         customer_id  churn\n",
       "0  000058a12d5b43e67d225668fa1f8d618c13dc232df0ca...      0\n",
       "1  000563485cbb7850b0a93c6606f89c5b961c6647d1bd48...      0\n",
       "2  00083cda041544b2fbb0e0d2905ad17da7cf1007526fb4...      0\n",
       "3  000eae69313b4fc1824fa7e439f168cc140bf4c3f3a7e9...      0\n",
       "4  000ec422ba5459f0295c1e86872d61b746bb8f84345efd...      0"
      ]
     },
     "execution_count": 25,
     "metadata": {},
     "output_type": "execute_result"
    }
   ],
   "source": [
    "df.head()"
   ]
  },
  {
   "cell_type": "code",
   "execution_count": 26,
   "metadata": {},
   "outputs": [],
   "source": [
    "customers_df = pd.merge(customers_df, \n",
    "                        df, \n",
    "                        how='left', \n",
    "                        on=['customer_id'],)"
   ]
  },
  {
   "cell_type": "code",
   "execution_count": 27,
   "metadata": {},
   "outputs": [
    {
     "data": {
      "text/html": [
       "<div>\n",
       "<style scoped>\n",
       "    .dataframe tbody tr th:only-of-type {\n",
       "        vertical-align: middle;\n",
       "    }\n",
       "\n",
       "    .dataframe tbody tr th {\n",
       "        vertical-align: top;\n",
       "    }\n",
       "\n",
       "    .dataframe thead th {\n",
       "        text-align: right;\n",
       "    }\n",
       "</style>\n",
       "<table border=\"1\" class=\"dataframe\">\n",
       "  <thead>\n",
       "    <tr style=\"text-align: right;\">\n",
       "      <th></th>\n",
       "      <th>customer_id</th>\n",
       "      <th>FN</th>\n",
       "      <th>Active</th>\n",
       "      <th>club_member_status</th>\n",
       "      <th>fashion_news_frequency</th>\n",
       "      <th>age</th>\n",
       "      <th>postal_code</th>\n",
       "      <th>quarter_articles_purchased</th>\n",
       "      <th>quarter_amount_spent</th>\n",
       "      <th>quarter_average_amount_spent_per_article</th>\n",
       "      <th>quarter_average_days_between_purchase</th>\n",
       "      <th>lifetime_articles_purchased</th>\n",
       "      <th>lieftime_amount_spent</th>\n",
       "      <th>days_since_last_purchase</th>\n",
       "      <th>lifetime_average_amount_spent_per_article</th>\n",
       "      <th>lifetime_average_days_between_purchase</th>\n",
       "      <th>churn</th>\n",
       "    </tr>\n",
       "  </thead>\n",
       "  <tbody>\n",
       "    <tr>\n",
       "      <th>0</th>\n",
       "      <td>00000dbacae5abe5e23885899a1fa44253a17956c6d1c3...</td>\n",
       "      <td>0.0000</td>\n",
       "      <td>0.0000</td>\n",
       "      <td>ACTIVE</td>\n",
       "      <td>NONE</td>\n",
       "      <td>49.0000</td>\n",
       "      <td>52043ee2162cf5aa7ee79974281641c6f11a68d276429a...</td>\n",
       "      <td>5</td>\n",
       "      <td>0.0936</td>\n",
       "      <td>0.0187</td>\n",
       "      <td>0.0000</td>\n",
       "      <td>20</td>\n",
       "      <td>0.5982</td>\n",
       "      <td>10</td>\n",
       "      <td>0.0299</td>\n",
       "      <td>0.0444</td>\n",
       "      <td>nan</td>\n",
       "    </tr>\n",
       "    <tr>\n",
       "      <th>1</th>\n",
       "      <td>0000423b00ade91418cceaf3b26c6af3dd342b51fd051e...</td>\n",
       "      <td>0.0000</td>\n",
       "      <td>0.0000</td>\n",
       "      <td>ACTIVE</td>\n",
       "      <td>NONE</td>\n",
       "      <td>25.0000</td>\n",
       "      <td>2973abc54daa8a5f8ccfe9362140c63247c5eee03f1d93...</td>\n",
       "      <td>19</td>\n",
       "      <td>0.4726</td>\n",
       "      <td>0.0249</td>\n",
       "      <td>0.0118</td>\n",
       "      <td>71</td>\n",
       "      <td>2.2378</td>\n",
       "      <td>30</td>\n",
       "      <td>0.0315</td>\n",
       "      <td>0.1347</td>\n",
       "      <td>0.0000</td>\n",
       "    </tr>\n",
       "    <tr>\n",
       "      <th>2</th>\n",
       "      <td>000058a12d5b43e67d225668fa1f8d618c13dc232df0ca...</td>\n",
       "      <td>0.0000</td>\n",
       "      <td>0.0000</td>\n",
       "      <td>ACTIVE</td>\n",
       "      <td>NONE</td>\n",
       "      <td>24.0000</td>\n",
       "      <td>64f17e6a330a85798e4998f62d0930d14db8db1c054af6...</td>\n",
       "      <td>3</td>\n",
       "      <td>0.0694</td>\n",
       "      <td>0.0231</td>\n",
       "      <td>0.0000</td>\n",
       "      <td>7</td>\n",
       "      <td>0.2151</td>\n",
       "      <td>57</td>\n",
       "      <td>0.0307</td>\n",
       "      <td>0.0140</td>\n",
       "      <td>0.0000</td>\n",
       "    </tr>\n",
       "    <tr>\n",
       "      <th>3</th>\n",
       "      <td>00007e8d4e54114b5b2a9b51586325a8d0fa74ea23ef77...</td>\n",
       "      <td>0.0000</td>\n",
       "      <td>0.0000</td>\n",
       "      <td>ACTIVE</td>\n",
       "      <td>NONE</td>\n",
       "      <td>20.0000</td>\n",
       "      <td>2c29ae653a9282cce4151bd87643c907644e09541abc28...</td>\n",
       "      <td>2</td>\n",
       "      <td>0.0534</td>\n",
       "      <td>0.0267</td>\n",
       "      <td>0.0000</td>\n",
       "      <td>2</td>\n",
       "      <td>0.0534</td>\n",
       "      <td>86</td>\n",
       "      <td>0.0267</td>\n",
       "      <td>0.0000</td>\n",
       "      <td>nan</td>\n",
       "    </tr>\n",
       "    <tr>\n",
       "      <th>4</th>\n",
       "      <td>00009d946eec3ea54add5ba56d5210ea898def4b46c685...</td>\n",
       "      <td>1.0000</td>\n",
       "      <td>1.0000</td>\n",
       "      <td>ACTIVE</td>\n",
       "      <td>Regularly</td>\n",
       "      <td>56.0000</td>\n",
       "      <td>b31984b20a8c478de38eaf113c581ff64e63c4242e607b...</td>\n",
       "      <td>21</td>\n",
       "      <td>0.6582</td>\n",
       "      <td>0.0313</td>\n",
       "      <td>0.0093</td>\n",
       "      <td>111</td>\n",
       "      <td>3.5527</td>\n",
       "      <td>12</td>\n",
       "      <td>0.0320</td>\n",
       "      <td>0.2110</td>\n",
       "      <td>0.0000</td>\n",
       "    </tr>\n",
       "  </tbody>\n",
       "</table>\n",
       "</div>"
      ],
      "text/plain": [
       "                                         customer_id     FN  Active  \\\n",
       "0  00000dbacae5abe5e23885899a1fa44253a17956c6d1c3... 0.0000  0.0000   \n",
       "1  0000423b00ade91418cceaf3b26c6af3dd342b51fd051e... 0.0000  0.0000   \n",
       "2  000058a12d5b43e67d225668fa1f8d618c13dc232df0ca... 0.0000  0.0000   \n",
       "3  00007e8d4e54114b5b2a9b51586325a8d0fa74ea23ef77... 0.0000  0.0000   \n",
       "4  00009d946eec3ea54add5ba56d5210ea898def4b46c685... 1.0000  1.0000   \n",
       "\n",
       "  club_member_status fashion_news_frequency     age  \\\n",
       "0             ACTIVE                   NONE 49.0000   \n",
       "1             ACTIVE                   NONE 25.0000   \n",
       "2             ACTIVE                   NONE 24.0000   \n",
       "3             ACTIVE                   NONE 20.0000   \n",
       "4             ACTIVE              Regularly 56.0000   \n",
       "\n",
       "                                         postal_code  \\\n",
       "0  52043ee2162cf5aa7ee79974281641c6f11a68d276429a...   \n",
       "1  2973abc54daa8a5f8ccfe9362140c63247c5eee03f1d93...   \n",
       "2  64f17e6a330a85798e4998f62d0930d14db8db1c054af6...   \n",
       "3  2c29ae653a9282cce4151bd87643c907644e09541abc28...   \n",
       "4  b31984b20a8c478de38eaf113c581ff64e63c4242e607b...   \n",
       "\n",
       "   quarter_articles_purchased  quarter_amount_spent  \\\n",
       "0                           5                0.0936   \n",
       "1                          19                0.4726   \n",
       "2                           3                0.0694   \n",
       "3                           2                0.0534   \n",
       "4                          21                0.6582   \n",
       "\n",
       "   quarter_average_amount_spent_per_article  \\\n",
       "0                                    0.0187   \n",
       "1                                    0.0249   \n",
       "2                                    0.0231   \n",
       "3                                    0.0267   \n",
       "4                                    0.0313   \n",
       "\n",
       "   quarter_average_days_between_purchase  lifetime_articles_purchased  \\\n",
       "0                                 0.0000                           20   \n",
       "1                                 0.0118                           71   \n",
       "2                                 0.0000                            7   \n",
       "3                                 0.0000                            2   \n",
       "4                                 0.0093                          111   \n",
       "\n",
       "   lieftime_amount_spent  days_since_last_purchase  \\\n",
       "0                 0.5982                        10   \n",
       "1                 2.2378                        30   \n",
       "2                 0.2151                        57   \n",
       "3                 0.0534                        86   \n",
       "4                 3.5527                        12   \n",
       "\n",
       "   lifetime_average_amount_spent_per_article  \\\n",
       "0                                     0.0299   \n",
       "1                                     0.0315   \n",
       "2                                     0.0307   \n",
       "3                                     0.0267   \n",
       "4                                     0.0320   \n",
       "\n",
       "   lifetime_average_days_between_purchase  churn  \n",
       "0                                  0.0444    nan  \n",
       "1                                  0.1347 0.0000  \n",
       "2                                  0.0140 0.0000  \n",
       "3                                  0.0000    nan  \n",
       "4                                  0.2110 0.0000  "
      ]
     },
     "execution_count": 27,
     "metadata": {},
     "output_type": "execute_result"
    }
   ],
   "source": [
    "customers_df.head()"
   ]
  },
  {
   "cell_type": "code",
   "execution_count": 28,
   "metadata": {},
   "outputs": [],
   "source": [
    "customers_df['churn'] = customers_df['churn'].fillna(1)"
   ]
  },
  {
   "cell_type": "code",
   "execution_count": 29,
   "metadata": {},
   "outputs": [
    {
     "data": {
      "text/plain": [
       "customer_id                                  0\n",
       "FN                                           0\n",
       "Active                                       0\n",
       "club_member_status                           0\n",
       "fashion_news_frequency                       0\n",
       "age                                          0\n",
       "postal_code                                  0\n",
       "quarter_articles_purchased                   0\n",
       "quarter_amount_spent                         0\n",
       "quarter_average_amount_spent_per_article     0\n",
       "quarter_average_days_between_purchase        0\n",
       "lifetime_articles_purchased                  0\n",
       "lieftime_amount_spent                        0\n",
       "days_since_last_purchase                     0\n",
       "lifetime_average_amount_spent_per_article    0\n",
       "lifetime_average_days_between_purchase       0\n",
       "churn                                        0\n",
       "dtype: int64"
      ]
     },
     "execution_count": 29,
     "metadata": {},
     "output_type": "execute_result"
    }
   ],
   "source": [
    "customers_df.isnull().sum()"
   ]
  },
  {
   "cell_type": "code",
   "execution_count": 30,
   "metadata": {},
   "outputs": [],
   "source": [
    "customers_df = customers_df.drop(columns=['postal_code'])"
   ]
  },
  {
   "cell_type": "markdown",
   "metadata": {},
   "source": [
    "### Saving to S3"
   ]
  },
  {
   "cell_type": "code",
   "execution_count": 31,
   "metadata": {},
   "outputs": [
    {
     "data": {
      "text/plain": [
       "{'paths': ['s3://ads-508-group-6-processed/customers.csv'],\n",
       " 'partitions_values': {}}"
      ]
     },
     "execution_count": 31,
     "metadata": {},
     "output_type": "execute_result"
    }
   ],
   "source": [
    "wr.s3.to_csv(df = customers_df,\n",
    "             path = \"s3://ads-508-group-6-processed/customers.csv\",\n",
    "             index = False)"
   ]
  },
  {
   "cell_type": "markdown",
   "metadata": {},
   "source": [
    "### Saving Locally"
   ]
  },
  {
   "cell_type": "code",
   "execution_count": 32,
   "metadata": {},
   "outputs": [],
   "source": [
    "# cutomers_df.to_csv(\"..\\\\data\\\\customers.csv\", index = False)"
   ]
  },
  {
   "cell_type": "markdown",
   "metadata": {},
   "source": [
    "### Shutting Down Kernel To Release Resources"
   ]
  },
  {
   "cell_type": "code",
   "execution_count": 33,
   "metadata": {},
   "outputs": [
    {
     "data": {
      "text/html": [
       "\n",
       "<p><b>Shutting down your kernel for this notebook to release resources.</b></p>\n",
       "<button class=\"sm-command-button\" data-commandlinker-command=\"kernelmenu:shutdown\" style=\"display:none;\">Shutdown Kernel</button>\n",
       "        \n",
       "<script>\n",
       "try {\n",
       "    els = document.getElementsByClassName(\"sm-command-button\");\n",
       "    els[0].click();\n",
       "}\n",
       "catch(err) {\n",
       "    // NoOp\n",
       "}    \n",
       "</script>\n"
      ],
      "text/plain": [
       "<IPython.core.display.HTML object>"
      ]
     },
     "metadata": {},
     "output_type": "display_data"
    }
   ],
   "source": [
    "%%html\n",
    "\n",
    "<p><b>Shutting down your kernel for this notebook to release resources.</b></p>\n",
    "<button class=\"sm-command-button\" data-commandlinker-command=\"kernelmenu:shutdown\" style=\"display:none;\">Shutdown Kernel</button>\n",
    "        \n",
    "<script>\n",
    "try {\n",
    "    els = document.getElementsByClassName(\"sm-command-button\");\n",
    "    els[0].click();\n",
    "}\n",
    "catch(err) {\n",
    "    // NoOp\n",
    "}    \n",
    "</script>"
   ]
  },
  {
   "cell_type": "code",
   "execution_count": null,
   "metadata": {},
   "outputs": [],
   "source": [
    "%%javascript\n",
    "\n",
    "try {\n",
    "    Jupyter.notebook.save_checkpoint();\n",
    "    Jupyter.notebook.session.delete();\n",
    "}\n",
    "catch(err) {\n",
    "    // NoOp\n",
    "}"
   ]
  }
 ],
 "metadata": {
  "kernelspec": {
   "display_name": "Python 3 (Base Python)",
   "language": "python",
   "name": "python3__SAGEMAKER_INTERNAL__arn:aws:sagemaker:us-east-1:081325390199:image/python-3.6"
  },
  "language_info": {
   "codemirror_mode": {
    "name": "ipython",
    "version": 3
   },
   "file_extension": ".py",
   "mimetype": "text/x-python",
   "name": "python",
   "nbconvert_exporter": "python",
   "pygments_lexer": "ipython3",
   "version": "3.6.13"
  }
 },
 "nbformat": 4,
 "nbformat_minor": 5
}
