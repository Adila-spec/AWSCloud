{
 "cells": [
  {
   "cell_type": "markdown",
   "metadata": {},
   "source": [
    "## Run on notebook with minimum 16 GB of RAM"
   ]
  },
  {
   "cell_type": "code",
   "execution_count": 1,
   "metadata": {},
   "outputs": [
    {
     "name": "stdout",
     "output_type": "stream",
     "text": [
      "/opt/conda/lib/python3.7/site-packages/secretstorage/dhcrypto.py:16: CryptographyDeprecationWarning: int_from_bytes is deprecated, use int.from_bytes instead\n",
      "  from cryptography.utils import int_from_bytes\n",
      "/opt/conda/lib/python3.7/site-packages/secretstorage/util.py:25: CryptographyDeprecationWarning: int_from_bytes is deprecated, use int.from_bytes instead\n",
      "  from cryptography.utils import int_from_bytes\n",
      "Collecting awswrangler\n",
      "  Using cached awswrangler-2.15.0-py3-none-any.whl (238 kB)\n",
      "Collecting opensearch-py<2.0.0,>=1.0.0\n",
      "  Using cached opensearch_py-1.1.0-py2.py3-none-any.whl (207 kB)\n",
      "Requirement already satisfied: pyarrow<7.1.0,>=2.0.0 in /opt/conda/lib/python3.7/site-packages (from awswrangler) (6.0.1)\n",
      "Collecting pg8000<2.0.0,>=1.20.0\n",
      "  Using cached pg8000-1.24.1-py3-none-any.whl (33 kB)\n",
      "Collecting requests-aws4auth<2.0.0,>=1.1.1\n",
      "  Using cached requests_aws4auth-1.1.2-py2.py3-none-any.whl (24 kB)\n",
      "Collecting backoff<2.0.0,>=1.11.1\n",
      "  Using cached backoff-1.11.1-py2.py3-none-any.whl (13 kB)\n",
      "Collecting progressbar2<4.0.0,>=3.53.3\n",
      "  Using cached progressbar2-3.55.0-py2.py3-none-any.whl (26 kB)\n",
      "Collecting numpy<2.0.0,>=1.21.0\n",
      "  Using cached numpy-1.21.5-cp37-cp37m-manylinux_2_12_x86_64.manylinux2010_x86_64.whl (15.7 MB)\n",
      "Collecting pandas<2.0.0,>=1.2.0\n",
      "  Using cached pandas-1.3.5-cp37-cp37m-manylinux_2_17_x86_64.manylinux2014_x86_64.whl (11.3 MB)\n",
      "Collecting gremlinpython<4.0.0,>=3.5.2\n",
      "  Using cached gremlinpython-3.5.2-py2.py3-none-any.whl (70 kB)\n",
      "Collecting pymysql<2.0.0,>=1.0.0\n",
      "  Using cached PyMySQL-1.0.2-py3-none-any.whl (43 kB)\n",
      "Collecting SPARQLWrapper<2.0.0,>=1.8.5\n",
      "  Using cached SPARQLWrapper-1.8.5-py3-none-any.whl (26 kB)\n",
      "Requirement already satisfied: openpyxl<3.1.0,>=3.0.0 in /opt/conda/lib/python3.7/site-packages (from awswrangler) (3.0.3)\n",
      "Collecting jsonpath-ng<2.0.0,>=1.5.3\n",
      "  Using cached jsonpath_ng-1.5.3-py3-none-any.whl (29 kB)\n",
      "Requirement already satisfied: botocore<2.0.0,>=1.23.17 in /opt/conda/lib/python3.7/site-packages (from awswrangler) (1.23.23)\n",
      "Requirement already satisfied: boto3<2.0.0,>=1.20.17 in /opt/conda/lib/python3.7/site-packages (from awswrangler) (1.20.23)\n",
      "Collecting redshift-connector<2.1.0,>=2.0.889\n",
      "  Using cached redshift_connector-2.0.905-py3-none-any.whl (109 kB)\n",
      "Requirement already satisfied: s3transfer<0.6.0,>=0.5.0 in /opt/conda/lib/python3.7/site-packages (from boto3<2.0.0,>=1.20.17->awswrangler) (0.5.0)\n",
      "Requirement already satisfied: jmespath<1.0.0,>=0.7.1 in /opt/conda/lib/python3.7/site-packages (from boto3<2.0.0,>=1.20.17->awswrangler) (0.10.0)\n",
      "Requirement already satisfied: python-dateutil<3.0.0,>=2.1 in /opt/conda/lib/python3.7/site-packages (from botocore<2.0.0,>=1.23.17->awswrangler) (2.8.1)\n",
      "Requirement already satisfied: urllib3<1.27,>=1.25.4 in /opt/conda/lib/python3.7/site-packages (from botocore<2.0.0,>=1.23.17->awswrangler) (1.26.7)\n",
      "Requirement already satisfied: aiohttp<=3.8.1,>=3.8.0 in /opt/conda/lib/python3.7/site-packages (from gremlinpython<4.0.0,>=3.5.2->awswrangler) (3.8.1)\n",
      "Collecting aenum<3.0.0,>=1.4.5\n",
      "  Using cached aenum-2.2.6-py3-none-any.whl (43 kB)\n",
      "Requirement already satisfied: nest-asyncio in /opt/conda/lib/python3.7/site-packages (from gremlinpython<4.0.0,>=3.5.2->awswrangler) (1.5.4)\n",
      "Requirement already satisfied: six<2.0.0,>=1.10.0 in /opt/conda/lib/python3.7/site-packages (from gremlinpython<4.0.0,>=3.5.2->awswrangler) (1.14.0)\n",
      "Collecting isodate<1.0.0,>=0.6.0\n",
      "  Using cached isodate-0.6.1-py2.py3-none-any.whl (41 kB)\n",
      "Requirement already satisfied: ply in /opt/conda/lib/python3.7/site-packages (from jsonpath-ng<2.0.0,>=1.5.3->awswrangler) (3.11)\n",
      "Requirement already satisfied: decorator in /opt/conda/lib/python3.7/site-packages (from jsonpath-ng<2.0.0,>=1.5.3->awswrangler) (4.4.1)\n",
      "Requirement already satisfied: et-xmlfile in /opt/conda/lib/python3.7/site-packages (from openpyxl<3.1.0,>=3.0.0->awswrangler) (1.0.1)\n",
      "Requirement already satisfied: jdcal in /opt/conda/lib/python3.7/site-packages (from openpyxl<3.1.0,>=3.0.0->awswrangler) (1.4.1)\n",
      "Requirement already satisfied: certifi in /opt/conda/lib/python3.7/site-packages (from opensearch-py<2.0.0,>=1.0.0->awswrangler) (2021.10.8)\n",
      "Requirement already satisfied: pytz>=2017.3 in /opt/conda/lib/python3.7/site-packages (from pandas<2.0.0,>=1.2.0->awswrangler) (2019.3)\n",
      "Collecting scramp>=1.4.1\n",
      "  Using cached scramp-1.4.1-py3-none-any.whl (8.5 kB)\n",
      "Collecting python-utils>=2.3.0\n",
      "  Using cached python_utils-3.1.0-py2.py3-none-any.whl (19 kB)\n",
      "Requirement already satisfied: beautifulsoup4<5.0.0,>=4.7.0 in /opt/conda/lib/python3.7/site-packages (from redshift-connector<2.1.0,>=2.0.889->awswrangler) (4.8.2)\n",
      "Collecting lxml>=4.6.5\n",
      "  Using cached lxml-4.8.0-cp37-cp37m-manylinux_2_17_x86_64.manylinux2014_x86_64.manylinux_2_24_x86_64.whl (6.4 MB)\n",
      "Requirement already satisfied: requests<2.27.2,>=2.23.0 in /opt/conda/lib/python3.7/site-packages (from redshift-connector<2.1.0,>=2.0.889->awswrangler) (2.26.0)\n",
      "Requirement already satisfied: packaging in /opt/conda/lib/python3.7/site-packages (from redshift-connector<2.1.0,>=2.0.889->awswrangler) (20.1)\n",
      "Collecting pytz>=2017.3\n",
      "  Using cached pytz-2021.3-py2.py3-none-any.whl (503 kB)\n",
      "Collecting rdflib>=4.0\n",
      "  Using cached rdflib-6.1.1-py3-none-any.whl (482 kB)\n",
      "Requirement already satisfied: frozenlist>=1.1.1 in /opt/conda/lib/python3.7/site-packages (from aiohttp<=3.8.1,>=3.8.0->gremlinpython<4.0.0,>=3.5.2->awswrangler) (1.2.0)\n",
      "Requirement already satisfied: charset-normalizer<3.0,>=2.0 in /opt/conda/lib/python3.7/site-packages (from aiohttp<=3.8.1,>=3.8.0->gremlinpython<4.0.0,>=3.5.2->awswrangler) (2.0.4)\n",
      "Requirement already satisfied: async-timeout<5.0,>=4.0.0a3 in /opt/conda/lib/python3.7/site-packages (from aiohttp<=3.8.1,>=3.8.0->gremlinpython<4.0.0,>=3.5.2->awswrangler) (4.0.1)\n",
      "Requirement already satisfied: typing-extensions>=3.7.4 in /opt/conda/lib/python3.7/site-packages (from aiohttp<=3.8.1,>=3.8.0->gremlinpython<4.0.0,>=3.5.2->awswrangler) (4.0.1)\n",
      "Requirement already satisfied: aiosignal>=1.1.2 in /opt/conda/lib/python3.7/site-packages (from aiohttp<=3.8.1,>=3.8.0->gremlinpython<4.0.0,>=3.5.2->awswrangler) (1.2.0)\n",
      "Requirement already satisfied: attrs>=17.3.0 in /opt/conda/lib/python3.7/site-packages (from aiohttp<=3.8.1,>=3.8.0->gremlinpython<4.0.0,>=3.5.2->awswrangler) (19.3.0)\n",
      "Requirement already satisfied: multidict<7.0,>=4.5 in /opt/conda/lib/python3.7/site-packages (from aiohttp<=3.8.1,>=3.8.0->gremlinpython<4.0.0,>=3.5.2->awswrangler) (5.2.0)\n",
      "Requirement already satisfied: asynctest==0.13.0 in /opt/conda/lib/python3.7/site-packages (from aiohttp<=3.8.1,>=3.8.0->gremlinpython<4.0.0,>=3.5.2->awswrangler) (0.13.0)\n",
      "Requirement already satisfied: yarl<2.0,>=1.0 in /opt/conda/lib/python3.7/site-packages (from aiohttp<=3.8.1,>=3.8.0->gremlinpython<4.0.0,>=3.5.2->awswrangler) (1.7.2)\n",
      "Requirement already satisfied: soupsieve>=1.2 in /opt/conda/lib/python3.7/site-packages (from beautifulsoup4<5.0.0,>=4.7.0->redshift-connector<2.1.0,>=2.0.889->awswrangler) (1.9.5)\n",
      "Requirement already satisfied: setuptools in /opt/conda/lib/python3.7/site-packages (from rdflib>=4.0->SPARQLWrapper<2.0.0,>=1.8.5->awswrangler) (59.5.0)\n",
      "Requirement already satisfied: pyparsing in /opt/conda/lib/python3.7/site-packages (from rdflib>=4.0->SPARQLWrapper<2.0.0,>=1.8.5->awswrangler) (2.4.6)\n",
      "Requirement already satisfied: importlib-metadata in /opt/conda/lib/python3.7/site-packages (from rdflib>=4.0->SPARQLWrapper<2.0.0,>=1.8.5->awswrangler) (1.5.0)\n",
      "Requirement already satisfied: idna<4,>=2.5 in /opt/conda/lib/python3.7/site-packages (from requests<2.27.2,>=2.23.0->redshift-connector<2.1.0,>=2.0.889->awswrangler) (2.8)\n",
      "Collecting asn1crypto>=1.4.0\n",
      "  Using cached asn1crypto-1.5.1-py2.py3-none-any.whl (105 kB)\n",
      "Requirement already satisfied: zipp>=0.5 in /opt/conda/lib/python3.7/site-packages (from importlib-metadata->rdflib>=4.0->SPARQLWrapper<2.0.0,>=1.8.5->awswrangler) (2.2.0)\n",
      "Installing collected packages: isodate, asn1crypto, scramp, rdflib, pytz, python-utils, numpy, lxml, aenum, SPARQLWrapper, requests-aws4auth, redshift-connector, pymysql, progressbar2, pg8000, pandas, opensearch-py, jsonpath-ng, gremlinpython, backoff, awswrangler\n",
      "  Attempting uninstall: asn1crypto\n",
      "    Found existing installation: asn1crypto 1.3.0\n",
      "    Uninstalling asn1crypto-1.3.0:\n",
      "      Successfully uninstalled asn1crypto-1.3.0\n",
      "  Attempting uninstall: pytz\n",
      "    Found existing installation: pytz 2019.3\n",
      "    Uninstalling pytz-2019.3:\n",
      "      Successfully uninstalled pytz-2019.3\n",
      "  Attempting uninstall: numpy\n",
      "    Found existing installation: numpy 1.20.3\n",
      "    Uninstalling numpy-1.20.3:\n",
      "      Successfully uninstalled numpy-1.20.3\n",
      "  Attempting uninstall: lxml\n",
      "    Found existing installation: lxml 4.6.4\n",
      "    Uninstalling lxml-4.6.4:\n",
      "      Successfully uninstalled lxml-4.6.4\n",
      "  Attempting uninstall: pandas\n",
      "    Found existing installation: pandas 1.0.1\n",
      "    Uninstalling pandas-1.0.1:\n",
      "      Successfully uninstalled pandas-1.0.1\n",
      "\u001b[31mERROR: pip's dependency resolver does not currently take into account all the packages that are installed. This behaviour is the source of the following dependency conflicts.\n",
      "numba 0.54.1 requires numpy<1.21,>=1.17, but you have numpy 1.21.5 which is incompatible.\u001b[0m\n",
      "Successfully installed SPARQLWrapper-1.8.5 aenum-2.2.6 asn1crypto-1.5.1 awswrangler-2.15.0 backoff-1.11.1 gremlinpython-3.5.2 isodate-0.6.1 jsonpath-ng-1.5.3 lxml-4.8.0 numpy-1.21.5 opensearch-py-1.1.0 pandas-1.3.5 pg8000-1.24.1 progressbar2-3.55.0 pymysql-1.0.2 python-utils-3.1.0 pytz-2021.3 rdflib-6.1.1 redshift-connector-2.0.905 requests-aws4auth-1.1.2 scramp-1.4.1\n",
      "\u001b[33mWARNING: Running pip as the 'root' user can result in broken permissions and conflicting behaviour with the system package manager. It is recommended to use a virtual environment instead: https://pip.pypa.io/warnings/venv\u001b[0m\n",
      "\u001b[33mWARNING: You are using pip version 21.3.1; however, version 22.0.4 is available.\n",
      "You should consider upgrading via the '/opt/conda/bin/python -m pip install --upgrade pip' command.\u001b[0m\n"
     ]
    }
   ],
   "source": [
    "!pip install awswrangler"
   ]
  },
  {
   "cell_type": "code",
   "execution_count": 2,
   "metadata": {},
   "outputs": [],
   "source": [
    "from io import StringIO\n",
    "import awswrangler as wr\n",
    "import pandas as pd\n",
    "import boto3\n",
    "\n",
    "bucket = 's3://ads-508-group-6-processed/customers/baseline-data/'\n",
    "\n",
    "df = wr.s3.read_csv(path = bucket)"
   ]
  },
  {
   "cell_type": "code",
   "execution_count": 3,
   "metadata": {},
   "outputs": [
    {
     "data": {
      "text/plain": [
       "{'paths': ['s3://ads-508-group-6-processed/customers/baseline_combined'],\n",
       " 'partitions_values': {}}"
      ]
     },
     "execution_count": 3,
     "metadata": {},
     "output_type": "execute_result"
    }
   ],
   "source": [
    "s3_url = 's3://ads-508-group-6-processed/customers/baseline_combined'\n",
    "wr.s3.to_csv(\n",
    "    df=df,\n",
    "    path=s3_url,\n",
    "    index=False\n",
    ")"
   ]
  },
  {
   "cell_type": "code",
   "execution_count": null,
   "metadata": {},
   "outputs": [],
   "source": []
  }
 ],
 "metadata": {
  "kernelspec": {
   "display_name": "Python 3 (Data Science)",
   "language": "python",
   "name": "python3__SAGEMAKER_INTERNAL__arn:aws:sagemaker:us-east-1:081325390199:image/datascience-1.0"
  },
  "language_info": {
   "codemirror_mode": {
    "name": "ipython",
    "version": 3
   },
   "file_extension": ".py",
   "mimetype": "text/x-python",
   "name": "python",
   "nbconvert_exporter": "python",
   "pygments_lexer": "ipython3",
   "version": "3.7.10"
  }
 },
 "nbformat": 4,
 "nbformat_minor": 4
}
