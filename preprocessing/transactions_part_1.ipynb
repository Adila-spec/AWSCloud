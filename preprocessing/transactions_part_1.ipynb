{
 "cells": [
  {
   "cell_type": "markdown",
   "id": "f43e0933",
   "metadata": {},
   "source": [
    "# Preprocessing transactions.csv Part 1"
   ]
  },
  {
   "cell_type": "code",
   "execution_count": 4,
   "id": "04f01d44",
   "metadata": {},
   "outputs": [],
   "source": [
    "import numpy as np\n",
    "import pandas as pd\n",
    "import boto3\n",
    "import matplotlib.pyplot as plt\n",
    "import seaborn as sns\n",
    "import os\n",
    "import datetime\n",
    "\n",
    "pd.options.display.float_format = '{:.4f}'.format"
   ]
  },
  {
   "cell_type": "markdown",
   "id": "622df1eb",
   "metadata": {},
   "source": [
    "### Loading Data via S3"
   ]
  },
  {
   "cell_type": "code",
   "execution_count": null,
   "id": "28644932",
   "metadata": {},
   "outputs": [],
   "source": [
    "bucket='ads-508-group-6-raw'\n",
    "data_key = 'transactions.csv'\n",
    "\n",
    "s3 = boto3.client('s3')\n",
    "transactions_obj = s3.get_object(Bucket = bucket, Key = data_key)\n",
    "\n",
    "transactions_df = pd.read_csv(transactions_obj['Body'])"
   ]
  },
  {
   "cell_type": "markdown",
   "id": "a8519e01",
   "metadata": {},
   "source": [
    "### Loading Data Locally"
   ]
  },
  {
   "cell_type": "code",
   "execution_count": 5,
   "id": "25d01034",
   "metadata": {},
   "outputs": [],
   "source": [
    "transactions_df = pd.read_csv(\"C:\\\\Users\\\\garyb\\\\OneDrive\\\\Documents\\\\GitHub\\\\recommendation-engine\\\\data\\\\transactions_train.csv\")"
   ]
  },
  {
   "cell_type": "code",
   "execution_count": 6,
   "id": "ef363b08",
   "metadata": {},
   "outputs": [
    {
     "data": {
      "text/html": [
       "<div>\n",
       "<style scoped>\n",
       "    .dataframe tbody tr th:only-of-type {\n",
       "        vertical-align: middle;\n",
       "    }\n",
       "\n",
       "    .dataframe tbody tr th {\n",
       "        vertical-align: top;\n",
       "    }\n",
       "\n",
       "    .dataframe thead th {\n",
       "        text-align: right;\n",
       "    }\n",
       "</style>\n",
       "<table border=\"1\" class=\"dataframe\">\n",
       "  <thead>\n",
       "    <tr style=\"text-align: right;\">\n",
       "      <th></th>\n",
       "      <th>t_dat</th>\n",
       "      <th>customer_id</th>\n",
       "      <th>article_id</th>\n",
       "      <th>price</th>\n",
       "      <th>sales_channel_id</th>\n",
       "    </tr>\n",
       "  </thead>\n",
       "  <tbody>\n",
       "    <tr>\n",
       "      <th>0</th>\n",
       "      <td>2018-09-20</td>\n",
       "      <td>000058a12d5b43e67d225668fa1f8d618c13dc232df0ca...</td>\n",
       "      <td>663713001</td>\n",
       "      <td>0.0508</td>\n",
       "      <td>2</td>\n",
       "    </tr>\n",
       "    <tr>\n",
       "      <th>1</th>\n",
       "      <td>2018-09-20</td>\n",
       "      <td>000058a12d5b43e67d225668fa1f8d618c13dc232df0ca...</td>\n",
       "      <td>541518023</td>\n",
       "      <td>0.0305</td>\n",
       "      <td>2</td>\n",
       "    </tr>\n",
       "    <tr>\n",
       "      <th>2</th>\n",
       "      <td>2018-09-20</td>\n",
       "      <td>00007d2de826758b65a93dd24ce629ed66842531df6699...</td>\n",
       "      <td>505221004</td>\n",
       "      <td>0.0152</td>\n",
       "      <td>2</td>\n",
       "    </tr>\n",
       "    <tr>\n",
       "      <th>3</th>\n",
       "      <td>2018-09-20</td>\n",
       "      <td>00007d2de826758b65a93dd24ce629ed66842531df6699...</td>\n",
       "      <td>685687003</td>\n",
       "      <td>0.0169</td>\n",
       "      <td>2</td>\n",
       "    </tr>\n",
       "    <tr>\n",
       "      <th>4</th>\n",
       "      <td>2018-09-20</td>\n",
       "      <td>00007d2de826758b65a93dd24ce629ed66842531df6699...</td>\n",
       "      <td>685687004</td>\n",
       "      <td>0.0169</td>\n",
       "      <td>2</td>\n",
       "    </tr>\n",
       "  </tbody>\n",
       "</table>\n",
       "</div>"
      ],
      "text/plain": [
       "        t_dat                                        customer_id  article_id  \\\n",
       "0  2018-09-20  000058a12d5b43e67d225668fa1f8d618c13dc232df0ca...   663713001   \n",
       "1  2018-09-20  000058a12d5b43e67d225668fa1f8d618c13dc232df0ca...   541518023   \n",
       "2  2018-09-20  00007d2de826758b65a93dd24ce629ed66842531df6699...   505221004   \n",
       "3  2018-09-20  00007d2de826758b65a93dd24ce629ed66842531df6699...   685687003   \n",
       "4  2018-09-20  00007d2de826758b65a93dd24ce629ed66842531df6699...   685687004   \n",
       "\n",
       "   price  sales_channel_id  \n",
       "0 0.0508                 2  \n",
       "1 0.0305                 2  \n",
       "2 0.0152                 2  \n",
       "3 0.0169                 2  \n",
       "4 0.0169                 2  "
      ]
     },
     "execution_count": 6,
     "metadata": {},
     "output_type": "execute_result"
    }
   ],
   "source": [
    "transactions_df.head()"
   ]
  },
  {
   "cell_type": "markdown",
   "id": "c3a8ffe4",
   "metadata": {},
   "source": [
    "### Recast Variables"
   ]
  },
  {
   "cell_type": "code",
   "execution_count": 7,
   "id": "68c520c8",
   "metadata": {},
   "outputs": [],
   "source": [
    "transactions_df['t_dat'] = pd.to_datetime(transactions_df['t_dat'], format='%Y-%m-%d')"
   ]
  },
  {
   "cell_type": "markdown",
   "id": "b73b5fd2",
   "metadata": {},
   "source": [
    "### Split Dataset\n",
    "\n",
    "Since we are trying to predict whether or not a customer will churn, the dataset needs to be split to prevent data leakage in our predictor variables. For the purposes of defining churn, we will be attempting to predict whether Q1 customers will churn in Q2 of 2022."
   ]
  },
  {
   "cell_type": "code",
   "execution_count": 8,
   "id": "7fd2e8e7",
   "metadata": {},
   "outputs": [],
   "source": [
    "target_label_df = transactions_df.loc[(transactions_df['t_dat'] >= '2020-04-01') & (transactions_df['t_dat'] <= '2020-06-30')]"
   ]
  },
  {
   "cell_type": "code",
   "execution_count": 9,
   "id": "bfc35192",
   "metadata": {},
   "outputs": [],
   "source": [
    "target_label_df.to_csv(\"C:\\\\Users\\\\garyb\\\\OneDrive\\\\Documents\\\\GitHub\\\\recommendation-engine\\\\data\\\\target_labels.csv\", \n",
    "                       index = False)"
   ]
  },
  {
   "cell_type": "code",
   "execution_count": 10,
   "id": "7b499709",
   "metadata": {},
   "outputs": [],
   "source": [
    "transactions_population_df = transactions_df.loc[(transactions_df['t_dat'] >= '2020-01-01') & (transactions_df['t_dat'] <= '2020-03-31')]"
   ]
  },
  {
   "cell_type": "code",
   "execution_count": 11,
   "id": "e36614e6",
   "metadata": {},
   "outputs": [],
   "source": [
    "transactions_population_df.to_csv(\"C:\\\\Users\\\\garyb\\\\OneDrive\\\\Documents\\\\GitHub\\\\recommendation-engine\\\\data\\\\population_transactions.csv\", \n",
    "                       index = False)"
   ]
  },
  {
   "cell_type": "code",
   "execution_count": 12,
   "id": "3fa8bb46",
   "metadata": {},
   "outputs": [],
   "source": [
    "historical_transactions_df = transactions_df.loc[(transactions_df['t_dat'] <= '2020-03-31')]"
   ]
  },
  {
   "cell_type": "code",
   "execution_count": 13,
   "id": "2ff352f5",
   "metadata": {},
   "outputs": [],
   "source": [
    "historical_transactions_df.to_csv(\"C:\\\\Users\\\\garyb\\\\OneDrive\\\\Documents\\\\GitHub\\\\recommendation-engine\\\\data\\\\historical_transactions.csv\", \n",
    "                       index = False)"
   ]
  },
  {
   "cell_type": "code",
   "execution_count": null,
   "id": "c7ee40f6",
   "metadata": {},
   "outputs": [],
   "source": []
  }
 ],
 "metadata": {
  "kernelspec": {
   "display_name": "Python 3",
   "language": "python",
   "name": "python3"
  },
  "language_info": {
   "codemirror_mode": {
    "name": "ipython",
    "version": 3
   },
   "file_extension": ".py",
   "mimetype": "text/x-python",
   "name": "python",
   "nbconvert_exporter": "python",
   "pygments_lexer": "ipython3",
   "version": "3.8.8"
  }
 },
 "nbformat": 4,
 "nbformat_minor": 5
}
